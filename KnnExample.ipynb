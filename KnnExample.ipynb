{
 "cells": [
  {
   "cell_type": "code",
   "execution_count": 16,
   "metadata": {},
   "outputs": [],
   "source": [
    "import numpy as np\n",
    "import matplotlib.pyplot as plt\n",
    "from matplotlib.ticker import NullFormatter\n",
    "import pandas as pd\n",
    "import numpy as np\n",
    "import matplotlib.ticker as ticker\n",
    "from sklearn import preprocessing\n",
    "%matplotlib inline"
   ]
  },
  {
   "cell_type": "code",
   "execution_count": 17,
   "metadata": {},
   "outputs": [
    {
     "data": {
      "text/html": [
       "<div>\n",
       "<style scoped>\n",
       "    .dataframe tbody tr th:only-of-type {\n",
       "        vertical-align: middle;\n",
       "    }\n",
       "\n",
       "    .dataframe tbody tr th {\n",
       "        vertical-align: top;\n",
       "    }\n",
       "\n",
       "    .dataframe thead th {\n",
       "        text-align: right;\n",
       "    }\n",
       "</style>\n",
       "<table border=\"1\" class=\"dataframe\">\n",
       "  <thead>\n",
       "    <tr style=\"text-align: right;\">\n",
       "      <th></th>\n",
       "      <th>region</th>\n",
       "      <th>tenure</th>\n",
       "      <th>age</th>\n",
       "      <th>marital</th>\n",
       "      <th>address</th>\n",
       "      <th>income</th>\n",
       "      <th>ed</th>\n",
       "      <th>employ</th>\n",
       "      <th>retire</th>\n",
       "      <th>gender</th>\n",
       "      <th>reside</th>\n",
       "      <th>custcat</th>\n",
       "    </tr>\n",
       "  </thead>\n",
       "  <tbody>\n",
       "    <tr>\n",
       "      <td>0</td>\n",
       "      <td>2</td>\n",
       "      <td>13</td>\n",
       "      <td>44</td>\n",
       "      <td>1</td>\n",
       "      <td>9</td>\n",
       "      <td>64.0</td>\n",
       "      <td>4</td>\n",
       "      <td>5</td>\n",
       "      <td>0.0</td>\n",
       "      <td>0</td>\n",
       "      <td>2</td>\n",
       "      <td>1</td>\n",
       "    </tr>\n",
       "    <tr>\n",
       "      <td>1</td>\n",
       "      <td>3</td>\n",
       "      <td>11</td>\n",
       "      <td>33</td>\n",
       "      <td>1</td>\n",
       "      <td>7</td>\n",
       "      <td>136.0</td>\n",
       "      <td>5</td>\n",
       "      <td>5</td>\n",
       "      <td>0.0</td>\n",
       "      <td>0</td>\n",
       "      <td>6</td>\n",
       "      <td>4</td>\n",
       "    </tr>\n",
       "    <tr>\n",
       "      <td>2</td>\n",
       "      <td>3</td>\n",
       "      <td>68</td>\n",
       "      <td>52</td>\n",
       "      <td>1</td>\n",
       "      <td>24</td>\n",
       "      <td>116.0</td>\n",
       "      <td>1</td>\n",
       "      <td>29</td>\n",
       "      <td>0.0</td>\n",
       "      <td>1</td>\n",
       "      <td>2</td>\n",
       "      <td>3</td>\n",
       "    </tr>\n",
       "    <tr>\n",
       "      <td>3</td>\n",
       "      <td>2</td>\n",
       "      <td>33</td>\n",
       "      <td>33</td>\n",
       "      <td>0</td>\n",
       "      <td>12</td>\n",
       "      <td>33.0</td>\n",
       "      <td>2</td>\n",
       "      <td>0</td>\n",
       "      <td>0.0</td>\n",
       "      <td>1</td>\n",
       "      <td>1</td>\n",
       "      <td>1</td>\n",
       "    </tr>\n",
       "    <tr>\n",
       "      <td>4</td>\n",
       "      <td>2</td>\n",
       "      <td>23</td>\n",
       "      <td>30</td>\n",
       "      <td>1</td>\n",
       "      <td>9</td>\n",
       "      <td>30.0</td>\n",
       "      <td>1</td>\n",
       "      <td>2</td>\n",
       "      <td>0.0</td>\n",
       "      <td>0</td>\n",
       "      <td>4</td>\n",
       "      <td>3</td>\n",
       "    </tr>\n",
       "  </tbody>\n",
       "</table>\n",
       "</div>"
      ],
      "text/plain": [
       "   region  tenure  age  marital  address  income  ed  employ  retire  gender  \\\n",
       "0       2      13   44        1        9    64.0   4       5     0.0       0   \n",
       "1       3      11   33        1        7   136.0   5       5     0.0       0   \n",
       "2       3      68   52        1       24   116.0   1      29     0.0       1   \n",
       "3       2      33   33        0       12    33.0   2       0     0.0       1   \n",
       "4       2      23   30        1        9    30.0   1       2     0.0       0   \n",
       "\n",
       "   reside  custcat  \n",
       "0       2        1  \n",
       "1       6        4  \n",
       "2       2        3  \n",
       "3       1        1  \n",
       "4       4        3  "
      ]
     },
     "execution_count": 17,
     "metadata": {},
     "output_type": "execute_result"
    }
   ],
   "source": [
    "df = pd.read_csv(\"teleCust1000t.csv\")\n",
    "df.head()"
   ]
  },
  {
   "cell_type": "code",
   "execution_count": 36,
   "metadata": {},
   "outputs": [
    {
     "data": {
      "text/html": [
       "<div>\n",
       "<style scoped>\n",
       "    .dataframe tbody tr th:only-of-type {\n",
       "        vertical-align: middle;\n",
       "    }\n",
       "\n",
       "    .dataframe tbody tr th {\n",
       "        vertical-align: top;\n",
       "    }\n",
       "\n",
       "    .dataframe thead th {\n",
       "        text-align: right;\n",
       "    }\n",
       "</style>\n",
       "<table border=\"1\" class=\"dataframe\">\n",
       "  <thead>\n",
       "    <tr style=\"text-align: right;\">\n",
       "      <th></th>\n",
       "      <th>region</th>\n",
       "      <th>tenure</th>\n",
       "      <th>age</th>\n",
       "      <th>marital</th>\n",
       "      <th>address</th>\n",
       "      <th>income</th>\n",
       "      <th>ed</th>\n",
       "      <th>employ</th>\n",
       "      <th>retire</th>\n",
       "      <th>gender</th>\n",
       "      <th>reside</th>\n",
       "      <th>custcat</th>\n",
       "    </tr>\n",
       "  </thead>\n",
       "  <tbody>\n",
       "    <tr>\n",
       "      <td>region</td>\n",
       "      <td>1.000000</td>\n",
       "      <td>0.016388</td>\n",
       "      <td>0.015034</td>\n",
       "      <td>-0.080637</td>\n",
       "      <td>0.010320</td>\n",
       "      <td>0.023765</td>\n",
       "      <td>-0.057952</td>\n",
       "      <td>0.016335</td>\n",
       "      <td>0.005595</td>\n",
       "      <td>0.050596</td>\n",
       "      <td>-0.065158</td>\n",
       "      <td>-0.023771</td>\n",
       "    </tr>\n",
       "    <tr>\n",
       "      <td>tenure</td>\n",
       "      <td>0.016388</td>\n",
       "      <td>1.000000</td>\n",
       "      <td>0.490217</td>\n",
       "      <td>0.154171</td>\n",
       "      <td>0.522952</td>\n",
       "      <td>0.242912</td>\n",
       "      <td>-0.109797</td>\n",
       "      <td>0.520288</td>\n",
       "      <td>0.171143</td>\n",
       "      <td>0.023533</td>\n",
       "      <td>-0.036592</td>\n",
       "      <td>0.166691</td>\n",
       "    </tr>\n",
       "    <tr>\n",
       "      <td>age</td>\n",
       "      <td>0.015034</td>\n",
       "      <td>0.490217</td>\n",
       "      <td>1.000000</td>\n",
       "      <td>-0.014433</td>\n",
       "      <td>0.660435</td>\n",
       "      <td>0.327948</td>\n",
       "      <td>-0.154857</td>\n",
       "      <td>0.670047</td>\n",
       "      <td>0.429440</td>\n",
       "      <td>-0.011419</td>\n",
       "      <td>-0.254993</td>\n",
       "      <td>0.056909</td>\n",
       "    </tr>\n",
       "    <tr>\n",
       "      <td>marital</td>\n",
       "      <td>-0.080637</td>\n",
       "      <td>0.154171</td>\n",
       "      <td>-0.014433</td>\n",
       "      <td>1.000000</td>\n",
       "      <td>-0.012051</td>\n",
       "      <td>-0.043984</td>\n",
       "      <td>0.001400</td>\n",
       "      <td>-0.002891</td>\n",
       "      <td>-0.078109</td>\n",
       "      <td>0.008345</td>\n",
       "      <td>0.625999</td>\n",
       "      <td>0.083836</td>\n",
       "    </tr>\n",
       "    <tr>\n",
       "      <td>address</td>\n",
       "      <td>0.010320</td>\n",
       "      <td>0.522952</td>\n",
       "      <td>0.660435</td>\n",
       "      <td>-0.012051</td>\n",
       "      <td>1.000000</td>\n",
       "      <td>0.226781</td>\n",
       "      <td>-0.128330</td>\n",
       "      <td>0.463291</td>\n",
       "      <td>0.292503</td>\n",
       "      <td>0.008363</td>\n",
       "      <td>-0.201645</td>\n",
       "      <td>0.067913</td>\n",
       "    </tr>\n",
       "    <tr>\n",
       "      <td>income</td>\n",
       "      <td>0.023765</td>\n",
       "      <td>0.242912</td>\n",
       "      <td>0.327948</td>\n",
       "      <td>-0.043984</td>\n",
       "      <td>0.226781</td>\n",
       "      <td>1.000000</td>\n",
       "      <td>0.113939</td>\n",
       "      <td>0.516349</td>\n",
       "      <td>-0.083651</td>\n",
       "      <td>0.038706</td>\n",
       "      <td>-0.097591</td>\n",
       "      <td>0.134525</td>\n",
       "    </tr>\n",
       "    <tr>\n",
       "      <td>ed</td>\n",
       "      <td>-0.057952</td>\n",
       "      <td>-0.109797</td>\n",
       "      <td>-0.154857</td>\n",
       "      <td>0.001400</td>\n",
       "      <td>-0.128330</td>\n",
       "      <td>0.113939</td>\n",
       "      <td>1.000000</td>\n",
       "      <td>-0.228580</td>\n",
       "      <td>-0.114229</td>\n",
       "      <td>0.006704</td>\n",
       "      <td>0.021045</td>\n",
       "      <td>0.193864</td>\n",
       "    </tr>\n",
       "    <tr>\n",
       "      <td>employ</td>\n",
       "      <td>0.016335</td>\n",
       "      <td>0.520288</td>\n",
       "      <td>0.670047</td>\n",
       "      <td>-0.002891</td>\n",
       "      <td>0.463291</td>\n",
       "      <td>0.516349</td>\n",
       "      <td>-0.228580</td>\n",
       "      <td>1.000000</td>\n",
       "      <td>0.277401</td>\n",
       "      <td>0.046016</td>\n",
       "      <td>-0.134683</td>\n",
       "      <td>0.110011</td>\n",
       "    </tr>\n",
       "    <tr>\n",
       "      <td>retire</td>\n",
       "      <td>0.005595</td>\n",
       "      <td>0.171143</td>\n",
       "      <td>0.429440</td>\n",
       "      <td>-0.078109</td>\n",
       "      <td>0.292503</td>\n",
       "      <td>-0.083651</td>\n",
       "      <td>-0.114229</td>\n",
       "      <td>0.277401</td>\n",
       "      <td>1.000000</td>\n",
       "      <td>0.053906</td>\n",
       "      <td>-0.140120</td>\n",
       "      <td>0.008908</td>\n",
       "    </tr>\n",
       "    <tr>\n",
       "      <td>gender</td>\n",
       "      <td>0.050596</td>\n",
       "      <td>0.023533</td>\n",
       "      <td>-0.011419</td>\n",
       "      <td>0.008345</td>\n",
       "      <td>0.008363</td>\n",
       "      <td>0.038706</td>\n",
       "      <td>0.006704</td>\n",
       "      <td>0.046016</td>\n",
       "      <td>0.053906</td>\n",
       "      <td>1.000000</td>\n",
       "      <td>0.016556</td>\n",
       "      <td>-0.004966</td>\n",
       "    </tr>\n",
       "    <tr>\n",
       "      <td>reside</td>\n",
       "      <td>-0.065158</td>\n",
       "      <td>-0.036592</td>\n",
       "      <td>-0.254993</td>\n",
       "      <td>0.625999</td>\n",
       "      <td>-0.201645</td>\n",
       "      <td>-0.097591</td>\n",
       "      <td>0.021045</td>\n",
       "      <td>-0.134683</td>\n",
       "      <td>-0.140120</td>\n",
       "      <td>0.016556</td>\n",
       "      <td>1.000000</td>\n",
       "      <td>0.082022</td>\n",
       "    </tr>\n",
       "    <tr>\n",
       "      <td>custcat</td>\n",
       "      <td>-0.023771</td>\n",
       "      <td>0.166691</td>\n",
       "      <td>0.056909</td>\n",
       "      <td>0.083836</td>\n",
       "      <td>0.067913</td>\n",
       "      <td>0.134525</td>\n",
       "      <td>0.193864</td>\n",
       "      <td>0.110011</td>\n",
       "      <td>0.008908</td>\n",
       "      <td>-0.004966</td>\n",
       "      <td>0.082022</td>\n",
       "      <td>1.000000</td>\n",
       "    </tr>\n",
       "  </tbody>\n",
       "</table>\n",
       "</div>"
      ],
      "text/plain": [
       "           region    tenure       age   marital   address    income        ed  \\\n",
       "region   1.000000  0.016388  0.015034 -0.080637  0.010320  0.023765 -0.057952   \n",
       "tenure   0.016388  1.000000  0.490217  0.154171  0.522952  0.242912 -0.109797   \n",
       "age      0.015034  0.490217  1.000000 -0.014433  0.660435  0.327948 -0.154857   \n",
       "marital -0.080637  0.154171 -0.014433  1.000000 -0.012051 -0.043984  0.001400   \n",
       "address  0.010320  0.522952  0.660435 -0.012051  1.000000  0.226781 -0.128330   \n",
       "income   0.023765  0.242912  0.327948 -0.043984  0.226781  1.000000  0.113939   \n",
       "ed      -0.057952 -0.109797 -0.154857  0.001400 -0.128330  0.113939  1.000000   \n",
       "employ   0.016335  0.520288  0.670047 -0.002891  0.463291  0.516349 -0.228580   \n",
       "retire   0.005595  0.171143  0.429440 -0.078109  0.292503 -0.083651 -0.114229   \n",
       "gender   0.050596  0.023533 -0.011419  0.008345  0.008363  0.038706  0.006704   \n",
       "reside  -0.065158 -0.036592 -0.254993  0.625999 -0.201645 -0.097591  0.021045   \n",
       "custcat -0.023771  0.166691  0.056909  0.083836  0.067913  0.134525  0.193864   \n",
       "\n",
       "           employ    retire    gender    reside   custcat  \n",
       "region   0.016335  0.005595  0.050596 -0.065158 -0.023771  \n",
       "tenure   0.520288  0.171143  0.023533 -0.036592  0.166691  \n",
       "age      0.670047  0.429440 -0.011419 -0.254993  0.056909  \n",
       "marital -0.002891 -0.078109  0.008345  0.625999  0.083836  \n",
       "address  0.463291  0.292503  0.008363 -0.201645  0.067913  \n",
       "income   0.516349 -0.083651  0.038706 -0.097591  0.134525  \n",
       "ed      -0.228580 -0.114229  0.006704  0.021045  0.193864  \n",
       "employ   1.000000  0.277401  0.046016 -0.134683  0.110011  \n",
       "retire   0.277401  1.000000  0.053906 -0.140120  0.008908  \n",
       "gender   0.046016  0.053906  1.000000  0.016556 -0.004966  \n",
       "reside  -0.134683 -0.140120  0.016556  1.000000  0.082022  \n",
       "custcat  0.110011  0.008908 -0.004966  0.082022  1.000000  "
      ]
     },
     "execution_count": 36,
     "metadata": {},
     "output_type": "execute_result"
    }
   ],
   "source": [
    "df.corr()"
   ]
  },
  {
   "cell_type": "code",
   "execution_count": 37,
   "metadata": {},
   "outputs": [],
   "source": [
    "df_new=pd.DataFrame()"
   ]
  },
  {
   "cell_type": "code",
   "execution_count": 39,
   "metadata": {},
   "outputs": [],
   "source": [
    "df_new[['tenure','income','ed','employ','custcat']]=df[['tenure','income','ed','employ','custcat']]"
   ]
  },
  {
   "cell_type": "code",
   "execution_count": 40,
   "metadata": {},
   "outputs": [
    {
     "data": {
      "text/plain": [
       "3    281\n",
       "1    266\n",
       "4    236\n",
       "2    217\n",
       "Name: custcat, dtype: int64"
      ]
     },
     "execution_count": 40,
     "metadata": {},
     "output_type": "execute_result"
    }
   ],
   "source": [
    "df_new['custcat'].value_counts()"
   ]
  },
  {
   "cell_type": "code",
   "execution_count": 42,
   "metadata": {},
   "outputs": [
    {
     "data": {
      "text/plain": [
       "array([[ 13.,  64.,   4.,   5.],\n",
       "       [ 11., 136.,   5.,   5.],\n",
       "       [ 68., 116.,   1.,  29.],\n",
       "       [ 33.,  33.,   2.,   0.],\n",
       "       [ 23.,  30.,   1.,   2.]])"
      ]
     },
     "execution_count": 42,
     "metadata": {},
     "output_type": "execute_result"
    }
   ],
   "source": [
    "X = df_new[[ 'tenure',  'income', 'ed', 'employ']] .values  #.astype(float)\n",
    "X[0:5]"
   ]
  },
  {
   "cell_type": "code",
   "execution_count": 43,
   "metadata": {},
   "outputs": [
    {
     "data": {
      "text/plain": [
       "array([1, 4, 3, 1, 3], dtype=int64)"
      ]
     },
     "execution_count": 43,
     "metadata": {},
     "output_type": "execute_result"
    }
   ],
   "source": [
    "y = df_new['custcat'].values\n",
    "y[0:5]"
   ]
  },
  {
   "cell_type": "code",
   "execution_count": 57,
   "metadata": {},
   "outputs": [
    {
     "name": "stdout",
     "output_type": "stream",
     "text": [
      "Train set: (800, 4) (800,)\n",
      "Test set: (200, 4) (200,)\n"
     ]
    }
   ],
   "source": [
    "from sklearn.model_selection import train_test_split\n",
    "X_train, X_test, y_train, y_test = train_test_split( X, y, test_size=0.2, random_state=4)\n",
    "print ('Train set:', X_train.shape,  y_train.shape)\n",
    "print ('Test set:', X_test.shape,  y_test.shape)"
   ]
  },
  {
   "cell_type": "code",
   "execution_count": 58,
   "metadata": {},
   "outputs": [],
   "source": [
    "from sklearn.neighbors import KNeighborsClassifier"
   ]
  },
  {
   "cell_type": "code",
   "execution_count": 68,
   "metadata": {},
   "outputs": [
    {
     "data": {
      "text/plain": [
       "KNeighborsClassifier(algorithm='auto', leaf_size=30, metric='minkowski',\n",
       "                     metric_params=None, n_jobs=None, n_neighbors=3, p=2,\n",
       "                     weights='uniform')"
      ]
     },
     "execution_count": 68,
     "metadata": {},
     "output_type": "execute_result"
    }
   ],
   "source": [
    "k = 3\n",
    "neigh = KNeighborsClassifier(n_neighbors = k).fit(X_train,y_train)\n",
    "neigh"
   ]
  },
  {
   "cell_type": "code",
   "execution_count": 69,
   "metadata": {},
   "outputs": [
    {
     "data": {
      "text/plain": [
       "array([1, 4, 4, 4, 4], dtype=int64)"
      ]
     },
     "execution_count": 69,
     "metadata": {},
     "output_type": "execute_result"
    }
   ],
   "source": [
    "yhat = neigh.predict(X_test)\n",
    "yhat[0:5]"
   ]
  },
  {
   "cell_type": "code",
   "execution_count": 70,
   "metadata": {},
   "outputs": [
    {
     "name": "stdout",
     "output_type": "stream",
     "text": [
      "Train set Accuracy:  0.61125\n",
      "Test set Accuracy:  0.255\n"
     ]
    }
   ],
   "source": [
    "from sklearn import metrics\n",
    "print(\"Train set Accuracy: \", metrics.accuracy_score(y_train, neigh.predict(X_train)))\n",
    "print(\"Test set Accuracy: \", metrics.accuracy_score(y_test, yhat))"
   ]
  },
  {
   "cell_type": "code",
   "execution_count": null,
   "metadata": {},
   "outputs": [],
   "source": []
  }
 ],
 "metadata": {
  "kernelspec": {
   "display_name": "Python 3",
   "language": "python",
   "name": "python3"
  },
  "language_info": {
   "codemirror_mode": {
    "name": "ipython",
    "version": 3
   },
   "file_extension": ".py",
   "mimetype": "text/x-python",
   "name": "python",
   "nbconvert_exporter": "python",
   "pygments_lexer": "ipython3",
   "version": "3.7.4"
  }
 },
 "nbformat": 4,
 "nbformat_minor": 2
}
